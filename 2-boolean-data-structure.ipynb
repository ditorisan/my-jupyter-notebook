{
 "cells": [
  {
   "cell_type": "markdown",
   "id": "c364e888",
   "metadata": {},
   "source": [
    "## Boolean\n",
    "\n",
    "Alright, class, listen up! Today we're going to dive into the world of booleans, the fundamental building blocks of truth in Python.\n",
    "\n",
    "Imagine a light switch. It can only be in two states: either on (bright and lit up) or off (dark and not providing any light). That's exactly how booleans work in Python. They represent two truth values: True (like the light being on) and False (like the light being off).\n",
    "\n",
    "These values are super important because they allow us to make decisions in our programs. We can use them to ask questions and control the flow of our code.\n",
    "\n",
    "For instance, you could write some code that checks if a user's age is greater than 18. If it is (True), you might display a message saying \"Welcome!\" If not (False), you might show a message saying \"Sorry, you must be 18 or older to proceed.\"\n",
    "\n",
    "Here's an example:"
   ]
  },
  {
   "cell_type": "code",
   "execution_count": 13,
   "id": "57f6e36b",
   "metadata": {},
   "outputs": [
    {
     "name": "stdout",
     "output_type": "stream",
     "text": [
      "Enter your age: 30\n",
      "Welcome!\n"
     ]
    }
   ],
   "source": [
    "age = int(input(\"Enter your age: \"))\n",
    "\n",
    "if age >= 18:\n",
    "  print(\"Welcome!\")\n",
    "else:\n",
    "  print(\"Sorry, you must be 18 or older to proceed.\")\n"
   ]
  },
  {
   "cell_type": "code",
   "execution_count": 2,
   "id": "e6319932",
   "metadata": {},
   "outputs": [
    {
     "data": {
      "text/plain": [
       "bool"
      ]
     },
     "execution_count": 2,
     "metadata": {},
     "output_type": "execute_result"
    }
   ],
   "source": [
    "type(True)"
   ]
  },
  {
   "cell_type": "code",
   "execution_count": 3,
   "id": "b5f1afe8",
   "metadata": {},
   "outputs": [
    {
     "data": {
      "text/plain": [
       "bool"
      ]
     },
     "execution_count": 3,
     "metadata": {},
     "output_type": "execute_result"
    }
   ],
   "source": [
    "type(False)"
   ]
  },
  {
   "cell_type": "code",
   "execution_count": 4,
   "id": "8edf172c",
   "metadata": {},
   "outputs": [],
   "source": [
    "my_str='Andi Auliyanto'"
   ]
  },
  {
   "cell_type": "code",
   "execution_count": 6,
   "id": "16f434ee",
   "metadata": {},
   "outputs": [
    {
     "name": "stdout",
     "output_type": "stream",
     "text": [
      "False\n",
      "False\n",
      "False\n",
      "True\n",
      "False\n",
      "False\n",
      "False\n",
      "True\n",
      "False\n"
     ]
    }
   ],
   "source": [
    "print(my_str.isalnum()) #check if all char are numbers\n",
    "print(my_str.isalpha()) #check if all char in the string are\n",
    "print(my_str.isdigit()) #test if string contains digits\n",
    "print(my_str.istitle()) #test if string contains title words\n",
    "print(my_str.isupper()) #test if string contains upper case\n",
    "print(my_str.islower()) #test if string contains lower case\n",
    "print(my_str.isspace()) #test if string contains spaces\n",
    "print(my_str.endswith('o')) #test if string ends with O\n",
    "print(my_str.startswith('H')) #test if string starts with H"
   ]
  },
  {
   "cell_type": "markdown",
   "id": "5bb52808",
   "metadata": {},
   "source": [
    "## Boolean and Logical Operators"
   ]
  },
  {
   "cell_type": "code",
   "execution_count": 7,
   "id": "13552dfd",
   "metadata": {},
   "outputs": [
    {
     "data": {
      "text/plain": [
       "True"
      ]
     },
     "execution_count": 7,
     "metadata": {},
     "output_type": "execute_result"
    }
   ],
   "source": [
    "True and True"
   ]
  },
  {
   "cell_type": "code",
   "execution_count": 8,
   "id": "bf105b5e",
   "metadata": {},
   "outputs": [
    {
     "data": {
      "text/plain": [
       "False"
      ]
     },
     "execution_count": 8,
     "metadata": {},
     "output_type": "execute_result"
    }
   ],
   "source": [
    "True and False"
   ]
  },
  {
   "cell_type": "code",
   "execution_count": 9,
   "id": "3206fe9c",
   "metadata": {},
   "outputs": [
    {
     "data": {
      "text/plain": [
       "True"
      ]
     },
     "execution_count": 9,
     "metadata": {},
     "output_type": "execute_result"
    }
   ],
   "source": [
    "True or False"
   ]
  },
  {
   "cell_type": "code",
   "execution_count": 10,
   "id": "ea18930f",
   "metadata": {},
   "outputs": [
    {
     "data": {
      "text/plain": [
       "True"
      ]
     },
     "execution_count": 10,
     "metadata": {},
     "output_type": "execute_result"
    }
   ],
   "source": [
    "True or True"
   ]
  },
  {
   "cell_type": "code",
   "execution_count": 11,
   "id": "ca68312e",
   "metadata": {},
   "outputs": [],
   "source": [
    "str_example='Hello World'\n",
    "my_str='auliyanto'"
   ]
  },
  {
   "cell_type": "code",
   "execution_count": 12,
   "id": "17cf2008",
   "metadata": {},
   "outputs": [
    {
     "data": {
      "text/plain": [
       "True"
      ]
     },
     "execution_count": 12,
     "metadata": {},
     "output_type": "execute_result"
    }
   ],
   "source": [
    "my_str.isalpha() or str_example.isnumeric()"
   ]
  },
  {
   "cell_type": "markdown",
   "id": "5c811aa2",
   "metadata": {},
   "source": [
    "## Lists\n",
    "\n",
    "Alright class, now that you've grasped the power of booleans, let's move on to lists!  Think of a list like a shopping bag. You can put all sorts of stuff in it: fruits, veggies, maybe some cookies (but don't tell your parents!). In Python, lists are similar. They store a collection of items, but these items can be of any data type, not just groceries!\n",
    "\n",
    "Here's the gist of lists:\n",
    "\n",
    "Ordered: Imagine your shopping bag with items placed in a specific order. Lists work the same way. Each item has a specific position, called an index, starting from 0. The first item you put in the bag is at index 0, the second at index 1, and so on.\n",
    "Mutable: This means you can change the contents of your list after you create it. You can add new items, remove some, or even rearrange them, just like adding or taking things out of your shopping bag.\n",
    "Hold Different Data Types: Unlike your shopping bag (hopefully!), a Python list can hold all sorts of data types together. You can have numbers, strings, booleans, even other lists inside a single list! This makes them super versatile for storing all kinds of information.\n",
    "\n",
    "Here's how to create a list in Python:"
   ]
  },
  {
   "cell_type": "code",
   "execution_count": 14,
   "id": "f13b30e6",
   "metadata": {},
   "outputs": [],
   "source": [
    "fruits = [\"apple\", \"banana\", \"orange\"]\n",
    "shopping_list = [fruits, \"milk\", True]  # Notice we can even nest lists!"
   ]
  },
  {
   "cell_type": "markdown",
   "id": "c20941a6",
   "metadata": {},
   "source": [
    "In the first example, we create a list named fruits containing apples, bananas, and oranges. \n",
    "In the second, we have a shopping_list with a nested list of fruits, milk, \n",
    "and even a boolean value (maybe to remember if you need dairy-free milk?).\n",
    "\n",
    "To access specific items in the list, we use indexing like this:"
   ]
  },
  {
   "cell_type": "code",
   "execution_count": 17,
   "id": "629335e0",
   "metadata": {},
   "outputs": [],
   "source": [
    "first_fruit = fruits[0]  # This will get \"apple\""
   ]
  },
  {
   "cell_type": "markdown",
   "id": "0ec09cf5",
   "metadata": {},
   "source": [
    "We can also use list methods to add, remove, or modify items.\n",
    "\n",
    "Lists are essential tools in Python for working with collections of data. They let you store and organize information in a flexible way. So, the next time you need to manage a bunch of stuff in your program, remember lists – the handy shopping bags of the Python world!\n"
   ]
  },
  {
   "cell_type": "code",
   "execution_count": 18,
   "id": "19cf758c",
   "metadata": {},
   "outputs": [],
   "source": [
    "lst_example=[]"
   ]
  },
  {
   "cell_type": "code",
   "execution_count": 19,
   "id": "fe97ef2a",
   "metadata": {},
   "outputs": [
    {
     "data": {
      "text/plain": [
       "list"
      ]
     },
     "execution_count": 19,
     "metadata": {},
     "output_type": "execute_result"
    }
   ],
   "source": [
    "type(lst_example)"
   ]
  },
  {
   "cell_type": "code",
   "execution_count": 20,
   "id": "7dc472af",
   "metadata": {},
   "outputs": [],
   "source": [
    "lst=list()"
   ]
  },
  {
   "cell_type": "code",
   "execution_count": 21,
   "id": "469112e0",
   "metadata": {},
   "outputs": [
    {
     "data": {
      "text/plain": [
       "list"
      ]
     },
     "execution_count": 21,
     "metadata": {},
     "output_type": "execute_result"
    }
   ],
   "source": [
    "type(lst)"
   ]
  },
  {
   "cell_type": "code",
   "execution_count": 22,
   "id": "53947ab3",
   "metadata": {},
   "outputs": [
    {
     "data": {
      "text/plain": [
       "list"
      ]
     },
     "execution_count": 22,
     "metadata": {},
     "output_type": "execute_result"
    }
   ],
   "source": [
    "lst=[\"MTK\",\"KIMIA\",100,200,300,204]\n",
    "type(lst)"
   ]
  },
  {
   "cell_type": "markdown",
   "id": "4b8096f0",
   "metadata": {},
   "source": [
    "## Append\n",
    ".append is used to add elements in the list"
   ]
  },
  {
   "cell_type": "code",
   "execution_count": 36,
   "id": "a6bbb5c8",
   "metadata": {},
   "outputs": [],
   "source": [
    "lst.append('anto')"
   ]
  },
  {
   "cell_type": "code",
   "execution_count": 37,
   "id": "e7f0e5dd",
   "metadata": {},
   "outputs": [
    {
     "data": {
      "text/plain": [
       "['MTK', 'KIMIA', 100, 200, 300, 204, 'anto']"
      ]
     },
     "execution_count": 37,
     "metadata": {},
     "output_type": "execute_result"
    }
   ],
   "source": [
    "lst"
   ]
  },
  {
   "cell_type": "code",
   "execution_count": 38,
   "id": "3963bcbe",
   "metadata": {},
   "outputs": [
    {
     "data": {
      "text/plain": [
       "7"
      ]
     },
     "execution_count": 38,
     "metadata": {},
     "output_type": "execute_result"
    }
   ],
   "source": [
    "len(lst)"
   ]
  },
  {
   "cell_type": "code",
   "execution_count": 41,
   "id": "3352a710",
   "metadata": {},
   "outputs": [
    {
     "data": {
      "text/plain": [
       "'KIMIA'"
      ]
     },
     "execution_count": 41,
     "metadata": {},
     "output_type": "execute_result"
    }
   ],
   "source": [
    "# Indexing in list\n",
    "lst[2]"
   ]
  },
  {
   "cell_type": "code",
   "execution_count": 42,
   "id": "3813567f",
   "metadata": {},
   "outputs": [
    {
     "data": {
      "text/plain": [
       "['MTK', 'yaksan', 'KIMIA', 100, 200, 300, 204, 'anto']"
      ]
     },
     "execution_count": 42,
     "metadata": {},
     "output_type": "execute_result"
    }
   ],
   "source": [
    "lst[:]"
   ]
  },
  {
   "cell_type": "code",
   "execution_count": 45,
   "id": "460a1488",
   "metadata": {},
   "outputs": [
    {
     "data": {
      "text/plain": [
       "['anto', 204, 300, 200, 100, 'KIMIA', 'yaksan', 'MTK']"
      ]
     },
     "execution_count": 45,
     "metadata": {},
     "output_type": "execute_result"
    }
   ],
   "source": [
    "lst[::-1]"
   ]
  },
  {
   "cell_type": "code",
   "execution_count": 46,
   "id": "78fb953f",
   "metadata": {},
   "outputs": [
    {
     "data": {
      "text/plain": [
       "['yaksan', 'KIMIA', 100, 200, 300, 204, 'anto']"
      ]
     },
     "execution_count": 46,
     "metadata": {},
     "output_type": "execute_result"
    }
   ],
   "source": [
    "lst[1:]"
   ]
  },
  {
   "cell_type": "code",
   "execution_count": 48,
   "id": "04098774",
   "metadata": {},
   "outputs": [
    {
     "data": {
      "text/plain": [
       "['yaksan', 'KIMIA', 100, 200, 300, 204]"
      ]
     },
     "execution_count": 48,
     "metadata": {},
     "output_type": "execute_result"
    }
   ],
   "source": [
    "lst[1:7]"
   ]
  },
  {
   "cell_type": "markdown",
   "id": "25a4fb96",
   "metadata": {},
   "source": [
    "## Insert\n",
    ".insert in a specific order"
   ]
  },
  {
   "cell_type": "code",
   "execution_count": 39,
   "id": "9f979b64",
   "metadata": {},
   "outputs": [],
   "source": [
    "lst.insert(1,'yaksan')"
   ]
  },
  {
   "cell_type": "code",
   "execution_count": 40,
   "id": "714aa100",
   "metadata": {},
   "outputs": [
    {
     "data": {
      "text/plain": [
       "['MTK', 'yaksan', 'KIMIA', 100, 200, 300, 204, 'anto']"
      ]
     },
     "execution_count": 40,
     "metadata": {},
     "output_type": "execute_result"
    }
   ],
   "source": [
    "lst"
   ]
  },
  {
   "cell_type": "code",
   "execution_count": 50,
   "id": "8643aa8a",
   "metadata": {},
   "outputs": [],
   "source": [
    "lst.append(['hellow','world'])"
   ]
  },
  {
   "cell_type": "code",
   "execution_count": 51,
   "id": "613949a1",
   "metadata": {},
   "outputs": [
    {
     "data": {
      "text/plain": [
       "['MTK', 'yaksan', 'KIMIA', 100, 200, 300, 204, 'anto', ['hellow', 'world']]"
      ]
     },
     "execution_count": 51,
     "metadata": {},
     "output_type": "execute_result"
    }
   ],
   "source": [
    "lst"
   ]
  },
  {
   "cell_type": "code",
   "execution_count": 54,
   "id": "f1060778",
   "metadata": {},
   "outputs": [],
   "source": [
    "lst=[1,2,3]"
   ]
  },
  {
   "cell_type": "code",
   "execution_count": 55,
   "id": "f204b2b2",
   "metadata": {},
   "outputs": [],
   "source": [
    "lst.append([4,5])"
   ]
  },
  {
   "cell_type": "code",
   "execution_count": 56,
   "id": "500340a2",
   "metadata": {},
   "outputs": [
    {
     "data": {
      "text/plain": [
       "[1, 2, 3, [4, 5]]"
      ]
     },
     "execution_count": 56,
     "metadata": {},
     "output_type": "execute_result"
    }
   ],
   "source": [
    "lst"
   ]
  },
  {
   "cell_type": "markdown",
   "id": "36795812",
   "metadata": {},
   "source": [
    "## Extend Method"
   ]
  },
  {
   "cell_type": "code",
   "execution_count": 57,
   "id": "e3caba40",
   "metadata": {},
   "outputs": [],
   "source": [
    "lst.extend([6,7])"
   ]
  },
  {
   "cell_type": "code",
   "execution_count": 58,
   "id": "4b4c9533",
   "metadata": {},
   "outputs": [
    {
     "data": {
      "text/plain": [
       "[1, 2, 3, [4, 5], 6, 7]"
      ]
     },
     "execution_count": 58,
     "metadata": {},
     "output_type": "execute_result"
    }
   ],
   "source": [
    "lst"
   ]
  },
  {
   "cell_type": "markdown",
   "id": "fe29de79",
   "metadata": {},
   "source": [
    "## Various operation that we can perform in List"
   ]
  },
  {
   "cell_type": "code",
   "execution_count": 59,
   "id": "e12d5450",
   "metadata": {},
   "outputs": [],
   "source": [
    "lst=[1,2,3,4,5]"
   ]
  },
  {
   "cell_type": "code",
   "execution_count": 60,
   "id": "6e039581",
   "metadata": {},
   "outputs": [
    {
     "data": {
      "text/plain": [
       "15"
      ]
     },
     "execution_count": 60,
     "metadata": {},
     "output_type": "execute_result"
    }
   ],
   "source": [
    "sum(lst)"
   ]
  },
  {
   "cell_type": "markdown",
   "id": "1f441645",
   "metadata": {},
   "source": [
    "## Pop() method"
   ]
  },
  {
   "cell_type": "code",
   "execution_count": 61,
   "id": "8b3c621c",
   "metadata": {},
   "outputs": [
    {
     "data": {
      "text/plain": [
       "5"
      ]
     },
     "execution_count": 61,
     "metadata": {},
     "output_type": "execute_result"
    }
   ],
   "source": [
    "lst.pop()"
   ]
  },
  {
   "cell_type": "code",
   "execution_count": 62,
   "id": "5d5386c6",
   "metadata": {},
   "outputs": [
    {
     "data": {
      "text/plain": [
       "[1, 2, 3, 4]"
      ]
     },
     "execution_count": 62,
     "metadata": {},
     "output_type": "execute_result"
    }
   ],
   "source": [
    "lst"
   ]
  },
  {
   "cell_type": "code",
   "execution_count": 63,
   "id": "a4df5a3f",
   "metadata": {},
   "outputs": [
    {
     "data": {
      "text/plain": [
       "1"
      ]
     },
     "execution_count": 63,
     "metadata": {},
     "output_type": "execute_result"
    }
   ],
   "source": [
    "lst.pop(0)"
   ]
  },
  {
   "cell_type": "code",
   "execution_count": 64,
   "id": "d0dc676a",
   "metadata": {},
   "outputs": [
    {
     "data": {
      "text/plain": [
       "[2, 3, 4]"
      ]
     },
     "execution_count": 64,
     "metadata": {},
     "output_type": "execute_result"
    }
   ],
   "source": [
    "lst"
   ]
  },
  {
   "cell_type": "markdown",
   "id": "b8e660b1",
   "metadata": {},
   "source": [
    "## count() : Calculate total occurance of given elements of list "
   ]
  },
  {
   "cell_type": "code",
   "execution_count": 65,
   "id": "e8837e66",
   "metadata": {},
   "outputs": [],
   "source": [
    "lst=[1,1,2,3,4,5]"
   ]
  },
  {
   "cell_type": "code",
   "execution_count": 66,
   "id": "2b1bcfe5",
   "metadata": {},
   "outputs": [
    {
     "data": {
      "text/plain": [
       "2"
      ]
     },
     "execution_count": 66,
     "metadata": {},
     "output_type": "execute_result"
    }
   ],
   "source": [
    "lst.count(1)"
   ]
  },
  {
   "cell_type": "code",
   "execution_count": 69,
   "id": "f2e3536d",
   "metadata": {},
   "outputs": [
    {
     "data": {
      "text/plain": [
       "6"
      ]
     },
     "execution_count": 69,
     "metadata": {},
     "output_type": "execute_result"
    }
   ],
   "source": [
    "# len() calculate total length of list\n",
    "len(lst)"
   ]
  },
  {
   "cell_type": "code",
   "execution_count": 70,
   "id": "daf14acc",
   "metadata": {},
   "outputs": [
    {
     "data": {
      "text/plain": [
       "0"
      ]
     },
     "execution_count": 70,
     "metadata": {},
     "output_type": "execute_result"
    }
   ],
   "source": [
    "# index() return the index of first occurence, Start and End index are not necessary parameters\n",
    "lst.index(1,0,4)"
   ]
  },
  {
   "cell_type": "code",
   "execution_count": 71,
   "id": "e78a8427",
   "metadata": {},
   "outputs": [
    {
     "data": {
      "text/plain": [
       "1"
      ]
     },
     "execution_count": 71,
     "metadata": {},
     "output_type": "execute_result"
    }
   ],
   "source": [
    "# Min and Max\n",
    "min(lst)"
   ]
  },
  {
   "cell_type": "code",
   "execution_count": 72,
   "id": "41824886",
   "metadata": {},
   "outputs": [
    {
     "data": {
      "text/plain": [
       "5"
      ]
     },
     "execution_count": 72,
     "metadata": {},
     "output_type": "execute_result"
    }
   ],
   "source": [
    "max(lst)"
   ]
  }
 ],
 "metadata": {
  "kernelspec": {
   "display_name": "Python 3 (ipykernel)",
   "language": "python",
   "name": "python3"
  },
  "language_info": {
   "codemirror_mode": {
    "name": "ipython",
    "version": 3
   },
   "file_extension": ".py",
   "mimetype": "text/x-python",
   "name": "python",
   "nbconvert_exporter": "python",
   "pygments_lexer": "ipython3",
   "version": "3.11.5"
  }
 },
 "nbformat": 4,
 "nbformat_minor": 5
}
